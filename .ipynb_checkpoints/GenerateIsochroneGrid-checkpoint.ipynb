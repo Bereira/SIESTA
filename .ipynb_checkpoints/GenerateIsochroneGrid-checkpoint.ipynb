{
 "cells": [
  {
   "cell_type": "markdown",
   "id": "91409a13",
   "metadata": {},
   "source": [
    "# SIESTA: Statistical matchIng between rEal and Synthetic sTellar populAtions\n",
    "\n",
    "For properly running the SIESTA code, you will need to download a grid of isochrones from the PARSEC-COLIBRI database. You can do that directly from [this website](http://stev.oapd.inaf.it/cgi-bin/cmd).  Alternatively, the [`ezPADOVA-2`](https://github.com/asteca/ezpadova-2) package can be used for downloading a large number of isochrones automatically. In the current version of the SIESTA code, the isochrones must be in the $UBVRI$ photometric system. We plan on adding more flexibility on the choice of stellar models and photometric systems in future versions.\n",
    "\n",
    "After downloading the isochrones, they must be stored in individual files, named with the proper convention. This Notebook will create these files. Before running the following block, make sure to have all your downloaded files in a single directory, that does not contain anything else. If you've used `ezPADOVA-2`, remember to remove the `filterslamdas.dat` file from the directory with the downloaded isochrones.\n",
    "\n",
    "Then, fill the following block with the adequate parameters and run it.\n",
    "\n",
    "- `DownloadedModelsPath`: path to the downloaded isochrones\n",
    "- `IsochronesPath`: path to store the individual isochrone files (must be an empty directory)\n",
    "- `Headersize`: number of rows in the first header of any of the downloaded files (header rows start with #)\n",
    "- `FilterColumns`. Fill with `'yes'` or `'no'` to remove from the isochrones all columns irrelevant for isochrone fitting. If you are not interested in these columns, this option is convenient to generate smaller files.\n",
    "- `ClipLateEvolution`: option to want to remove the rows after the early Assymptotic Red Giant Branch. If you're not interested in the thermal pulses, this removal is convenient to generate smaller files."
   ]
  },
  {
   "cell_type": "code",
   "execution_count": null,
   "id": "31a48a0a",
   "metadata": {},
   "outputs": [],
   "source": [
    "#Import libraries\n",
    "import sys ; sys.path.append('modules')\n",
    "import GenerateIsochroneGrid\n",
    "import importlib ; importlib.reload(GenerateIsochroneGrid)\n",
    "\n",
    "#Fill in the inputs\n",
    "DownloadedModelsPath = \n",
    "IsochronesPath = \n",
    "HeaderSize = \n",
    "FilterColumns = \n",
    "ClipLateEvolution = \n",
    "#Run\n",
    "GenerateIsochroneGrid.Run(DownloadedModelsPath,IsochronesPath,HeaderSize,FilterColumns,ClipLateEvolution)\n"
   ]
  }
 ],
 "metadata": {
  "kernelspec": {
   "display_name": "Python 3 (ipykernel)",
   "language": "python",
   "name": "python3"
  },
  "language_info": {
   "codemirror_mode": {
    "name": "ipython",
    "version": 3
   },
   "file_extension": ".py",
   "mimetype": "text/x-python",
   "name": "python",
   "nbconvert_exporter": "python",
   "pygments_lexer": "ipython3",
   "version": "3.11.4"
  }
 },
 "nbformat": 4,
 "nbformat_minor": 5
}
